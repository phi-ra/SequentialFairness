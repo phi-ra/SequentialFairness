{
 "cells": [
  {
   "cell_type": "code",
   "execution_count": 2,
   "metadata": {},
   "outputs": [],
   "source": [
    "import pandas as pd\n",
    "import numpy as np\n",
    "from itertools import permutations\n",
    "import copy\n",
    "import pickle\n",
    "\n",
    "from sklearn.metrics import mean_squared_error\n",
    "import lightgbm as lgb\n",
    "\n",
    "import matplotlib.pyplot as plt"
   ]
  },
  {
   "cell_type": "code",
   "execution_count": 3,
   "metadata": {},
   "outputs": [],
   "source": [
    "%load_ext autoreload\n",
    "%autoreload 2\n",
    "from main.utils.preprocessing import preprocess_census\n",
    "from main.estimators.evaluation import cv_early_stopping\n",
    "from main.fairness.metrics import get_all_predictions, calculate_metrics\n",
    "from main.utils.dataloader import load_sunbelt_data"
   ]
  },
  {
   "cell_type": "code",
   "execution_count": 4,
   "metadata": {},
   "outputs": [],
   "source": [
    "sunbelt_states = ['AL', 'AZ', 'FL', 'GA', 'LA', \n",
    "                  'MS', 'NM', 'SC', 'TX', 'CA']\n",
    "\n",
    "data_all = load_sunbelt_data(states=sunbelt_states)"
   ]
  },
  {
   "cell_type": "code",
   "execution_count": 5,
   "metadata": {},
   "outputs": [],
   "source": [
    "cat_features = ['OCCP', 'POBP', 'SCHL', 'RELP']\n",
    "\n",
    "ret_dict =  preprocess_census(data=data_all,\n",
    "                              target_feature='PINCP',\n",
    "                              sensitive_features=['SEX', 'RAC1P_black'],\n",
    "                              categorical_features=cat_features,\n",
    "                              continuous_features=['WKHP', 'AGEP'])"
   ]
  },
  {
   "cell_type": "code",
   "execution_count": 6,
   "metadata": {},
   "outputs": [
    {
     "name": "stdout",
     "output_type": "stream",
     "text": [
      "Training until validation scores don't improve for 20 rounds\n",
      "Early stopping, best iteration is:\n",
      "[569]\tvalidation's l2: 0.552022\n",
      "Training until validation scores don't improve for 20 rounds\n",
      "Early stopping, best iteration is:\n",
      "[415]\tvalidation's l2: 0.547966\n",
      "Training until validation scores don't improve for 20 rounds\n",
      "Early stopping, best iteration is:\n",
      "[544]\tvalidation's l2: 0.546421\n",
      "Training until validation scores don't improve for 20 rounds\n",
      "Early stopping, best iteration is:\n",
      "[574]\tvalidation's l2: 0.545016\n",
      "Training until validation scores don't improve for 20 rounds\n",
      "Early stopping, best iteration is:\n",
      "[295]\tvalidation's l2: 0.54502\n"
     ]
    }
   ],
   "source": [
    "params = {\n",
    "    \"objective\": \"regression\",\n",
    "    \"metric\": \"mse\",\n",
    "    \"min_data_in_leaf\": 50,\n",
    "    \"learning_rate\": 0.05,\n",
    "    \"feature_fraction\": 0.9,\n",
    "    \"verbose\": -1\n",
    "}\n",
    "\n",
    "cv_results = cv_early_stopping(params=params, \n",
    "                               nfolds=5, \n",
    "                               max_rounds=1000, \n",
    "                               early_stopping_rounds=20, \n",
    "                               X_train=ret_dict['X_train'], \n",
    "                               y_train=ret_dict['y_train'], \n",
    "                               categorical_feats=cat_features)"
   ]
  },
  {
   "cell_type": "code",
   "execution_count": 7,
   "metadata": {},
   "outputs": [
    {
     "name": "stdout",
     "output_type": "stream",
     "text": [
      "Best MSE: 0.5450164220371625 \n",
      "Best Iter: 574\n"
     ]
    }
   ],
   "source": [
    "best_res = np.argmin(cv_results['metric'])\n",
    "best_iter = cv_results['iterations'][best_res]\n",
    "\n",
    "print((f\"Best MSE: {np.min(cv_results['metric'])} \\nBest Iter: {best_iter}\"))"
   ]
  },
  {
   "cell_type": "code",
   "execution_count": 8,
   "metadata": {},
   "outputs": [],
   "source": [
    "# Retrain whole model\n",
    "data_train_all = lgb.Dataset(data=ret_dict['X_train'], \n",
    "                             label=ret_dict['y_train'], \n",
    "                             categorical_feature=cat_features)\n",
    "\n",
    "best_estimator = lgb.train(params=params,\n",
    "                           train_set=data_train_all, \n",
    "                           num_boost_round=best_iter)"
   ]
  },
  {
   "cell_type": "code",
   "execution_count": 9,
   "metadata": {},
   "outputs": [],
   "source": [
    "prediction_baseline = best_estimator.predict(ret_dict['X_test'])"
   ]
  },
  {
   "cell_type": "code",
   "execution_count": 10,
   "metadata": {},
   "outputs": [
    {
     "data": {
      "text/plain": [
       "0.5467691821346675"
      ]
     },
     "execution_count": 10,
     "metadata": {},
     "output_type": "execute_result"
    }
   ],
   "source": [
    "mean_squared_error(ret_dict['y_test'], prediction_baseline)"
   ]
  },
  {
   "cell_type": "code",
   "execution_count": 11,
   "metadata": {},
   "outputs": [
    {
     "name": "stdout",
     "output_type": "stream",
     "text": [
      "saving mods\n",
      "saving mods\n",
      "saving mods\n",
      "saving mods\n"
     ]
    }
   ],
   "source": [
    "output_check = get_all_predictions(best_estimator, \n",
    "                                   ['SEX_2', 'RAC1P_black'], \n",
    "                                   ret_dict)"
   ]
  },
  {
   "cell_type": "code",
   "execution_count": 12,
   "metadata": {},
   "outputs": [],
   "source": [
    "output_check['baseline'] = {}\n",
    "output_check['baseline']['level_0'] = {}\n",
    "output_check['baseline']['level_0']['prediction'] = prediction_baseline\n",
    "output_check['baseline']['level_0']['sensitive'] = {}\n",
    "output_check['baseline']['level_0']['sensitive']['SEX'] = ret_dict['X_test']['SEX_2']\n",
    "output_check['baseline']['level_0']['sensitive']['RACE'] = ret_dict['X_test']['RAC1P_black']"
   ]
  },
  {
   "cell_type": "code",
   "execution_count": 13,
   "metadata": {},
   "outputs": [],
   "source": [
    "ret_metrics = calculate_metrics(output_check, \n",
    "                  ret_dict['y_test'])"
   ]
  },
  {
   "cell_type": "code",
   "execution_count": 19,
   "metadata": {},
   "outputs": [],
   "source": [
    "# with open('data/prepared/all_results_application.pkl', 'wb') as con_:\n",
    "#     pickle.dump(output_check, con_)"
   ]
  },
  {
   "cell_type": "code",
   "execution_count": 14,
   "metadata": {},
   "outputs": [],
   "source": [
    "# with open('data/results/application_visualisation.pkl', 'wb') as con_:\n",
    "#     pickle.dump(ret_metrics, con_)"
   ]
  },
  {
   "cell_type": "code",
   "execution_count": 15,
   "metadata": {},
   "outputs": [],
   "source": [
    "# with open('data/results/application_data_dict.pkl', 'wb') as con_:\n",
    "#     pickle.dump(ret_dict, con_)\n"
   ]
  },
  {
   "cell_type": "code",
   "execution_count": 16,
   "metadata": {},
   "outputs": [],
   "source": [
    "# best_estimator.save_model('data/models/best_iteration_model.txt',\n",
    "#                                    num_iteration = best_iter)"
   ]
  },
  {
   "cell_type": "code",
   "execution_count": 17,
   "metadata": {},
   "outputs": [
    {
     "data": {
      "image/png": "[encoded data removed]",
      "text/plain": [
       "<Figure size 640x480 with 1 Axes>"
      ]
     },
     "metadata": {},
     "output_type": "display_data"
    }
   ],
   "source": [
    "col_dict = {'A': u'orchid', 'B': u'darkcyan', 'C': u'grey', 'D': u'dodgerblue', 'E': u'turquoise', 'F': u'darkviolet'}\n",
    "\n",
    "\n",
    "all_cols = dict(zip(range(len(col_dict.values())), col_dict.values()))\n",
    "\n",
    "col_counter = 0\n",
    "\n",
    "for key_final, val_final in ret_metrics.items():\n",
    "    for key_level in val_final.keys():\n",
    "        plt.scatter(val_final[key_level]['unfairness'], \n",
    "                    val_final[key_level]['mse'], \n",
    "                    c=all_cols[col_counter])\n",
    "    col_counter += 1"
   ]
  },
  {
   "cell_type": "code",
   "execution_count": null,
   "metadata": {},
   "outputs": [],
   "source": []
  }
 ],
 "metadata": {
  "kernelspec": {
   "display_name": "cenv_sequential",
   "language": "python",
   "name": "cenv_sequential"
  },
  "language_info": {
   "codemirror_mode": {
    "name": "ipython",
    "version": 3
   },
   "file_extension": ".py",
   "mimetype": "text/x-python",
   "name": "python",
   "nbconvert_exporter": "python",
   "pygments_lexer": "ipython3",
   "version": "3.10.12"
  },
  "orig_nbformat": 4
 },
 "nbformat": 4,
 "nbformat_minor": 2
}
