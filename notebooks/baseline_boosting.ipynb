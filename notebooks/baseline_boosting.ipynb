{
 "cells": [
  {
   "cell_type": "markdown",
   "metadata": {},
   "source": [
    "# Baseline implementation for application \n",
    "\n",
    "Note:\n",
    "- We use LightGBM as opposed to other libraries such as XGBoost as it handles categorical features better if they have a high number of categories (application of _On Grouping for Maximum Homogeneity_)\n",
    "- We run Classification and Regression on the same dataset to illustrate the use"
   ]
  },
  {
   "cell_type": "code",
   "execution_count": 54,
   "metadata": {},
   "outputs": [],
   "source": [
    "import numpy as np\n",
    "import pandas as pd\n",
    "\n",
    "# Model and metrics\n",
    "import lightgbm as lgb\n",
    "from sklearn.metrics import mean_squared_error\n",
    "\n",
    "# viz\n",
    "import matplotlib.pyplot as plt\n",
    "import seaborn as sns"
   ]
  },
  {
   "cell_type": "code",
   "execution_count": 55,
   "metadata": {},
   "outputs": [
    {
     "name": "stdout",
     "output_type": "stream",
     "text": [
      "The autoreload extension is already loaded. To reload it, use:\n",
      "  %reload_ext autoreload\n"
     ]
    }
   ],
   "source": [
    "%load_ext autoreload\n",
    "%autoreload 2\n",
    "from main.fairness.wasserstein import WassersteinFairRegression\n",
    "from main.utils.preprocessing import preprocess_census\n",
    "from main.estimators.evaluation import cv_early_stopping\n",
    "from main.fairness.metrics import unfairness"
   ]
  },
  {
   "cell_type": "markdown",
   "metadata": {},
   "source": [
    "# Prepare data\n",
    "\n",
    "Recall the definitions of the variables:\n",
    "- MAR: Marital status\n",
    "- OCCP: Occupation recode for 2018 and later based on 2018 OCC codes\n",
    "- POBP: Place of birth (Recode)\n",
    "- PINCP: Total person's income (signed, use ADJINC to adjust to constant dollars)\n",
    "- AGEP: Age\n",
    "- COW: Class of worker (state, self-employed)\n",
    "- SEX: Gender\n",
    "- WKHP: Usual hours worked per week past 12 months\n",
    "- RELP:  Relationship - Grandkid etc.\n",
    "- RAC1P: Recoded detailed race code \n",
    "- SCHL: Educational attainment"
   ]
  },
  {
   "cell_type": "code",
   "execution_count": 49,
   "metadata": {},
   "outputs": [],
   "source": [
    "data_all = pd.read_csv('data/prepared/usage_data_sunbelt.csv')"
   ]
  },
  {
   "cell_type": "code",
   "execution_count": 50,
   "metadata": {},
   "outputs": [],
   "source": [
    "cat_features = ['OCCP', 'POBP', 'SCHL', 'RELP']\n",
    "\n",
    "ret_dict =  preprocess_census(data=data_all,\n",
    "                              target_feature='PINCP',\n",
    "                              sensitive_features=['SEX', 'RAC1P'],\n",
    "                              categorical_features=cat_features,\n",
    "                              continuous_features=['WKHP', 'AGEP'])"
   ]
  },
  {
   "cell_type": "code",
   "execution_count": 6,
   "metadata": {},
   "outputs": [],
   "source": [
    "params = {\n",
    "    \"objective\": \"regression\",\n",
    "    \"metric\": \"mse\",\n",
    "    \"num_leaves\": 31,\n",
    "    \"learning_rate\": 0.05,\n",
    "    \"feature_fraction\": 0.9,\n",
    "    \"verbose\": -1\n",
    "}"
   ]
  },
  {
   "cell_type": "code",
   "execution_count": 7,
   "metadata": {},
   "outputs": [],
   "source": [
    "%%capture\n",
    "cv_results = cv_early_stopping(params=params, \n",
    "                               nfolds=5, \n",
    "                               max_rounds=1000, \n",
    "                               early_stopping_rounds=20, \n",
    "                               X_train=ret_dict['X_train'], \n",
    "                               y_train=ret_dict['y_train'], \n",
    "                               categorical_feats=cat_features)"
   ]
  },
  {
   "cell_type": "code",
   "execution_count": 8,
   "metadata": {},
   "outputs": [
    {
     "name": "stdout",
     "output_type": "stream",
     "text": [
      "Best MSE: 0.5646566256682791 \n",
      "Best Iter: 182\n"
     ]
    }
   ],
   "source": [
    "best_res = np.argmin(cv_results['metric'])\n",
    "best_iter = cv_results['iterations'][best_res]\n",
    "\n",
    "print((f\"Best MSE: {np.min(cv_results['metric'])} \\nBest Iter: {best_iter}\"))"
   ]
  },
  {
   "cell_type": "code",
   "execution_count": 9,
   "metadata": {},
   "outputs": [],
   "source": [
    "# Retrain whole model\n",
    "data_train_all = lgb.Dataset(data=ret_dict['X_train'], \n",
    "                             label=ret_dict['y_train'], \n",
    "                             categorical_feature=cat_features)\n",
    "\n",
    "best_estimator = lgb.train(params=params,\n",
    "                           train_set=data_train_all, \n",
    "                           num_boost_round=best_iter)"
   ]
  },
  {
   "cell_type": "code",
   "execution_count": 52,
   "metadata": {},
   "outputs": [
    {
     "data": {
      "text/plain": [
       "<lightgbm.basic.Booster at 0x13dfa4100>"
      ]
     },
     "execution_count": 52,
     "metadata": {},
     "output_type": "execute_result"
    }
   ],
   "source": [
    "best_estimator.save_model('data/models/baseline_model.txt')"
   ]
  },
  {
   "cell_type": "code",
   "execution_count": 10,
   "metadata": {},
   "outputs": [],
   "source": [
    "fairness_regressor = WassersteinFairRegression(best_estimator)\n",
    "fairness_regressor.fit(ret_dict['X_calib'], sensitive_name='SEX_2')"
   ]
  },
  {
   "cell_type": "code",
   "execution_count": 41,
   "metadata": {},
   "outputs": [],
   "source": [
    "semifair_preds = fairness_regressor.predict(ret_dict['X_test'], sensitive_name='SEX_2', epsilon=0.75)\n",
    "fair_preds = fairness_regressor.predict(ret_dict['X_test'], sensitive_name='SEX_2')"
   ]
  },
  {
   "cell_type": "code",
   "execution_count": 42,
   "metadata": {},
   "outputs": [],
   "source": [
    "var_key = np.where(ret_dict['X_train'].columns == 'SEX_2')[0][0]"
   ]
  },
  {
   "cell_type": "code",
   "execution_count": 43,
   "metadata": {},
   "outputs": [
    {
     "data": {
      "text/plain": [
       "0.5777328091175477"
      ]
     },
     "execution_count": 43,
     "metadata": {},
     "output_type": "execute_result"
    }
   ],
   "source": [
    "mean_squared_error(ret_dict['y_test'], fairness_regressor.y_pred[var_key])"
   ]
  },
  {
   "cell_type": "code",
   "execution_count": 44,
   "metadata": {},
   "outputs": [],
   "source": [
    "a_ = fair_preds[np.where(ret_dict['sens_SEX_test'] == 1)[0]]\n",
    "b_ = fair_preds[np.where(ret_dict['sens_SEX_test'] == 0)[0]]"
   ]
  },
  {
   "cell_type": "code",
   "execution_count": 45,
   "metadata": {},
   "outputs": [
    {
     "data": {
      "text/plain": [
       "0.01928447920782972"
      ]
     },
     "execution_count": 45,
     "metadata": {},
     "output_type": "execute_result"
    }
   ],
   "source": [
    "unfairness(a_, b_)"
   ]
  },
  {
   "cell_type": "code",
   "execution_count": 46,
   "metadata": {},
   "outputs": [
    {
     "data": {
      "text/plain": [
       "0.5898576145084405"
      ]
     },
     "execution_count": 46,
     "metadata": {},
     "output_type": "execute_result"
    }
   ],
   "source": [
    "mean_squared_error(ret_dict['y_test'], fair_preds)"
   ]
  },
  {
   "cell_type": "code",
   "execution_count": 48,
   "metadata": {},
   "outputs": [
    {
     "data": {
      "text/plain": [
       "<matplotlib.legend.Legend at 0x14a1124d0>"
      ]
     },
     "execution_count": 48,
     "metadata": {},
     "output_type": "execute_result"
    },
    {
     "data": {
      "image/png": "[encoded data removed]",
      "text/plain": [
       "<Figure size 640x480 with 1 Axes>"
      ]
     },
     "metadata": {},
     "output_type": "display_data"
    }
   ],
   "source": [
    "sns.kdeplot(fairness_regressor.y_pred[var_key], label='Optimal')\n",
    "sns.kdeplot(fair_preds, label='epsilon=0.75')\n",
    "sns.kdeplot(semifair_preds, label='fair')\n",
    "sns.kdeplot(ret_dict['y_test'], label='true')\n",
    "plt.legend()"
   ]
  }
 ],
 "metadata": {
  "kernelspec": {
   "display_name": "cenv_sequential",
   "language": "python",
   "name": "cenv_sequential"
  },
  "language_info": {
   "codemirror_mode": {
    "name": "ipython",
    "version": 3
   },
   "file_extension": ".py",
   "mimetype": "text/x-python",
   "name": "python",
   "nbconvert_exporter": "python",
   "pygments_lexer": "ipython3",
   "version": "3.10.12"
  },
  "orig_nbformat": 4
 },
 "nbformat": 4,
 "nbformat_minor": 2
}
